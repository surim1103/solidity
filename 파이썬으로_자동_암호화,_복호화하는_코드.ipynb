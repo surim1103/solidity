{
  "nbformat": 4,
  "nbformat_minor": 0,
  "metadata": {
    "colab": {
      "provenance": [],
      "collapsed_sections": [],
      "include_colab_link": true
    },
    "kernelspec": {
      "name": "python3",
      "display_name": "Python 3"
    },
    "language_info": {
      "name": "python"
    }
  },
  "cells": [
    {
      "cell_type": "markdown",
      "metadata": {
        "id": "view-in-github",
        "colab_type": "text"
      },
      "source": [
        "<a href=\"https://colab.research.google.com/github/surim1103/solidity/blob/main/%ED%8C%8C%EC%9D%B4%EC%8D%AC%EC%9C%BC%EB%A1%9C_%EC%9E%90%EB%8F%99_%EC%95%94%ED%98%B8%ED%99%94%2C_%EB%B3%B5%ED%98%B8%ED%99%94%ED%95%98%EB%8A%94_%EC%BD%94%EB%93%9C.ipynb\" target=\"_parent\"><img src=\"https://colab.research.google.com/assets/colab-badge.svg\" alt=\"Open In Colab\"/></a>"
      ]
    },
    {
      "cell_type": "code",
      "execution_count": 1,
      "metadata": {
        "colab": {
          "base_uri": "https://localhost:8080/"
        },
        "id": "nTF5OWfqcVs0",
        "outputId": "5454000a-c891-4be2-83f0-715c94a2cfa3"
      },
      "outputs": [
        {
          "output_type": "stream",
          "name": "stdout",
          "text": [
            "Looking in indexes: https://pypi.org/simple, https://us-python.pkg.dev/colab-wheels/public/simple/\n",
            "Collecting cryptography\n",
            "  Downloading cryptography-38.0.1-cp36-abi3-manylinux_2_24_x86_64.whl (4.0 MB)\n",
            "\u001b[K     |████████████████████████████████| 4.0 MB 4.6 MB/s \n",
            "\u001b[?25hRequirement already satisfied: cffi>=1.12 in /usr/local/lib/python3.7/dist-packages (from cryptography) (1.15.1)\n",
            "Requirement already satisfied: pycparser in /usr/local/lib/python3.7/dist-packages (from cffi>=1.12->cryptography) (2.21)\n",
            "Installing collected packages: cryptography\n",
            "Successfully installed cryptography-38.0.1\n"
          ]
        }
      ],
      "source": [
        "!pip install cryptography\n",
        "import pandas as pd\n",
        "from cryptography.fernet import Fernet #대칭 암호화를 위한 모듈\n",
        "\n",
        "class Pompaycode:\n",
        "    def __init__(self, key=None):\n",
        "        if key is None: # 키가 없다면\n",
        "            key = Fernet.generate_key() # 키를 생성한다\n",
        "        self.key = key\n",
        "        self.f   = Fernet(self.key)\n",
        "    \n",
        "    def encrypt(self, data, is_out_string=True):\n",
        "        if isinstance(data, bytes):\n",
        "            ou = self.f.encrypt(data) # 바이트형태면 바로 암호화\n",
        "        else:\n",
        "            ou = self.f.encrypt(data.encode('utf-8')) # 인코딩 후 암호화\n",
        "        if is_out_string is True:\n",
        "            return ou.decode('utf-8') # 출력이 문자열이면 디코딩 후 반환\n",
        "        else:\n",
        "            return ou\n",
        "        \n",
        "    def decrypt(self, data, is_out_string=True):\n",
        "        if isinstance(data, bytes):\n",
        "            ou = self.f.decrypt(data) # 바이트형태이면 바로 복호화\n",
        "        else:\n",
        "            ou = self.f.decrypt(data.encode('utf-8')) # 인코딩 후 복호화\n",
        "        if is_out_string is True:\n",
        "            return ou.decode('utf-8') # 출력이 문자열이면 디코딩 후 반환\n",
        "        else:\n",
        "            return ou"
      ]
    },
    {
      "cell_type": "code",
      "source": [
        "Pompay_list = [['go', '201721382','business'],\n",
        " ['yang', '201812342','financial'],\n",
        " ['kim', '201522412','childhood'],\n",
        " ['ham', '202021577','economic'],\n",
        " ['gang', '201201982','wnatto'],\n",
        " ['yoo', '201456633','acasdf']]"
      ],
      "metadata": {
        "id": "cxVUf2YiiV3g"
      },
      "execution_count": 4,
      "outputs": []
    },
    {
      "cell_type": "code",
      "source": [
        "df = pd.DataFrame(Pompay_list)\n",
        "df.rename(columns={0:'name', 1:'number_of', 2:'major'}, inplace=True)\n",
        "print(df)"
      ],
      "metadata": {
        "id": "XT3AP5qFdkEb",
        "colab": {
          "base_uri": "https://localhost:8080/"
        },
        "outputId": "6983b566-8cd5-4c95-978f-9f1748d62ea3"
      },
      "execution_count": 5,
      "outputs": [
        {
          "output_type": "stream",
          "name": "stdout",
          "text": [
            "   name  number_of      major\n",
            "0    go  201721382   business\n",
            "1  yang  201812342  financial\n",
            "2   kim  201522412  childhood\n",
            "3   ham  202021577   economic\n",
            "4  gang  201201982     wnatto\n",
            "5   yoo  201456633     acasdf\n"
          ]
        }
      ]
    },
    {
      "cell_type": "code",
      "source": [
        "Pompaycode = Pompaycode() #함수 연산자 등록가능하게 변환"
      ],
      "metadata": {
        "id": "U0HWABjw5aen"
      },
      "execution_count": 6,
      "outputs": []
    },
    {
      "cell_type": "code",
      "source": [
        "#졸업생 데이터 암호화 과정\n",
        "\n",
        "for i in range(0, 6):\n",
        "  encrypt_name = Pompaycode.encrypt(df.name[i])\n",
        "  encrypt_number_of = Pompaycode.encrypt(df.number_of[i])\n",
        "  encrypt_major = Pompaycode.encrypt(df.major[i])\n",
        "\n",
        "  print('Name', \":\" ,encrypt_name)\n",
        "  print('Number_of', \":\" ,encrypt_number_of)\n",
        "  print('Major', \":\" ,encrypt_major)\n",
        "\n",
        "  if i > 6:\n",
        "    \n",
        "   break"
      ],
      "metadata": {
        "colab": {
          "base_uri": "https://localhost:8080/"
        },
        "id": "JVAoPSXjkZrQ",
        "outputId": "79c4906e-3e4e-42e5-92a6-d619a5432b14"
      },
      "execution_count": 7,
      "outputs": [
        {
          "output_type": "stream",
          "name": "stdout",
          "text": [
            "Name : gAAAAABjQpbJj2p4CBz7JUE_jDhj7HxxPGZeFp7V77LtSjJgc0miPtMFtSKvqwdX3E8yBlE_MWfPmmkkJZDl3sftLGNGAXU7yA==\n",
            "Number_of : gAAAAABjQpbJ-1FSA-RLHuFd6901Auhb_WavILC-1O3MuNPUPGHgYq6i_g_af7GY5DNftvw56ptwGEZD99FhjjZcVRH9PsW8RQ==\n",
            "Major : gAAAAABjQpbJWmBvmkhweNdHxEf7foABNiHSIlFB_dbZm44jOWCcpL5UMdrS2XAHuMpNzIzmp6ow5VSljdmrIu79fRGLUeU69g==\n",
            "Name : gAAAAABjQpbJ3K25tOf3U90le0ypFkPxYjZlVT_ygLwj1TgqyPMLiVgzLtOHi1DXyilNhzEeYfdsvQ-LajMj2QLTSL9Olis8vA==\n",
            "Number_of : gAAAAABjQpbJXIRQOi8hNC_kb88K9V6ELCXx779BYeDzb9gqGcBj0Iy0RmoSeZXwXO-cMq7GNB1WtJlP-6-ovmah-HFek8LlEQ==\n",
            "Major : gAAAAABjQpbJTfQL8SBxCG7rIqlm9tPjhxFrazMM4teHHeUMQ43F0V1ezodNJmTrAcrK1_3zkKetfB8xBU3k082XjRzIblcKxQ==\n",
            "Name : gAAAAABjQpbJGwShhLLHFd1IjZrcGqWOZ5QN3z2iCGQRkg3Kjujq9j28LPku4drbj8YS--NZM-ZQT956DDlM5ZPx4HpPmal9Ag==\n",
            "Number_of : gAAAAABjQpbJ0TZXislEehCKJ4N7f3_msxG4w7BkiKdyPEoSinb4Fldemuarz8x5AGHCYGvlQ70-GQotsjbAIqyqrcbCi16TUw==\n",
            "Major : gAAAAABjQpbJKfYQNRNvfXCIPqMt2xo00cVQOV7hY4rkxTRoyflpLBz3ROK2vwJPvTUB5eErGbNnyeH0RuJdG6irDNtUXGBQSw==\n",
            "Name : gAAAAABjQpbJBhRlEXsoODoSdSX_HP-KehoG2g2sdrxHeesfTBeNMjiaQwCE4ZPkdXDWQBzuAzHPX9z8-4TQV2q678_SFYcqpQ==\n",
            "Number_of : gAAAAABjQpbJ8AKa-jAXbbjRgEWmtSXEtyDHbJfy5X3ZMsPJwu2TQHGUvGf4ZBSP57BA56jD2WeDOjVpYbI14wd7SrGm7diqfQ==\n",
            "Major : gAAAAABjQpbJWWZnqk9l_y9rcehh-LpFA8XXeg0X7Dup5NSDG-5gkRvfgcJvoksHjPEJisz68EleH6MZeonZdfY866k4hPgeYw==\n",
            "Name : gAAAAABjQpbJzK47J1T5ig53yw6vIjZdpdNrx2qzDRqx5fwA2wNI-3EYmGuLiIazfelY2GCtdIderMsFzF5_HFcFTu_EpO_JfA==\n",
            "Number_of : gAAAAABjQpbJ26GbRzQunHcweKtOdf0PQImx1-rjv7NmGTm3TCqw-e-P-MvcUTLOAn0oHARGGhUGQPlkOa2eEaKG7ngrdk2l_Q==\n",
            "Major : gAAAAABjQpbJKnrsjM9RYD4hmSeyClza5gQrCBFIlyK8-cTKQGPNoqkoVtM4h2APKLza83mLKJD4J4sxeRZoWsAT7S_qcMp0-w==\n",
            "Name : gAAAAABjQpbJgoEi7NAWVKM7DnEfaP0rafWdd_M4KsvisbqyagXNNPk8V-X7tKo8A7tFdv-3r1nxN1zYr0Z-qwN7c_krKFlK5w==\n",
            "Number_of : gAAAAABjQpbJbtQI6bfKMq7CjaMPBrP4ReRKqvIuxV7wq41cXSq6Qju-gY2hBiLkLy47uh1j6-VE3xxnRfiZvRGkYs3-Wn7sAg==\n",
            "Major : gAAAAABjQpbJH33cuTdPcqzKtBKQJcrzH1iJ3w2d4oLLAXeQTZCH8_3JPx5_4igPNeZtjoOyCqHQVXbD-NSruWJBlFCiDx67gQ==\n"
          ]
        }
      ]
    },
    {
      "cell_type": "code",
      "source": [
        "#졸업생 데이터 복호화 과정\n",
        "\n",
        "\n",
        "for i in range(0, 6):\n",
        "  encrypt_name = Pompaycode.encrypt(df.name[i])\n",
        "  encrypt_number_of = Pompaycode.encrypt(df.number_of[i])\n",
        "  encrypt_major = Pompaycode.encrypt(df.major[i])\n",
        "\n",
        "  decrypt_name = Pompaycode.decrypt(encrypt_name)\n",
        "  decrypt_number_of = Pompaycode.decrypt(encrypt_number_of)\n",
        "  decrypt_major = Pompaycode.decrypt(encrypt_major)\n",
        "\n",
        "  print('Name', \":\" ,decrypt_name)\n",
        "  print('Number_of', \":\" ,decrypt_number_of)\n",
        "  print('Major', \":\" ,decrypt_major)\n",
        "\n",
        "  if i > 6:\n",
        "    \n",
        "   break"
      ],
      "metadata": {
        "id": "G7ZYK8bnq6Zu",
        "colab": {
          "base_uri": "https://localhost:8080/"
        },
        "outputId": "681d3593-9beb-40bb-b2d4-32522754369a"
      },
      "execution_count": 8,
      "outputs": [
        {
          "output_type": "stream",
          "name": "stdout",
          "text": [
            "Name : go\n",
            "Number_of : 201721382\n",
            "Major : business\n",
            "Name : yang\n",
            "Number_of : 201812342\n",
            "Major : financial\n",
            "Name : kim\n",
            "Number_of : 201522412\n",
            "Major : childhood\n",
            "Name : ham\n",
            "Number_of : 202021577\n",
            "Major : economic\n",
            "Name : gang\n",
            "Number_of : 201201982\n",
            "Major : wnatto\n",
            "Name : yoo\n",
            "Number_of : 201456633\n",
            "Major : acasdf\n"
          ]
        }
      ]
    }
  ]
}